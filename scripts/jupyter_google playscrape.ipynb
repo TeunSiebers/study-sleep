{
 "cells": [
  {
   "cell_type": "code",
   "execution_count": 2,
   "metadata": {},
   "outputs": [],
   "source": [
    "from google_play_scraper import app\n",
    "\n",
    "def scrape_app(x):\n",
    "    try:\n",
    "        result = app(\n",
    "            x,\n",
    "            lang = 'en', # defaults to 'en'\n",
    "            country = 'us' # defaults to 'us'\n",
    "        )\n",
    "        return {\"app_name\": result[\"title\"], \"app_cat\": result[\"genre\"]}\n",
    "    except:\n",
    "        return {\"app_name\": None, \"app_cat\": None}"
   ]
  },
  {
   "cell_type": "code",
   "execution_count": null,
   "metadata": {},
   "outputs": [],
   "source": [
    "scrape_app(\"com.whatsapp\")"
   ]
  }
 ],
 "metadata": {
  "kernelspec": {
   "display_name": "Python 3",
   "language": "python",
   "name": "python3"
  },
  "language_info": {
   "codemirror_mode": {
    "name": "ipython",
    "version": 3
   },
   "file_extension": ".py",
   "mimetype": "text/x-python",
   "name": "python",
   "nbconvert_exporter": "python",
   "pygments_lexer": "ipython3",
   "version": "3.10.5"
  },
  "orig_nbformat": 4,
  "vscode": {
   "interpreter": {
    "hash": "c233c37b9f51350e63ca1211ef48c1123c08f6ee7428c1b09f3fcba7f152d158"
   }
  }
 },
 "nbformat": 4,
 "nbformat_minor": 2
}
